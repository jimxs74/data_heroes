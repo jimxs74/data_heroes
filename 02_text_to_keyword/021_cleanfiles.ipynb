{
 "cells": [
  {
   "cell_type": "code",
   "execution_count": 9,
   "metadata": {},
   "outputs": [],
   "source": [
    "import pandas as pd"
   ]
  },
  {
   "cell_type": "code",
   "execution_count": 10,
   "metadata": {},
   "outputs": [],
   "source": [
    "# Load the Excel file\n",
    "file_path = 'surat_ctr_format.xlsx'\n",
    "df = pd.read_excel(file_path)\n",
    "\n",
    "# Columns to check for blank cells\n",
    "columns_to_check = [\"File Name\", \"Letter Number\", \"Date\", \"Title\", \"letter_content \"]\n",
    "\n",
    "# Remove rows where any of the specified columns have blank cells\n",
    "df_cleaned = df.dropna(subset=columns_to_check)\n",
    "\n",
    "# Save the cleaned dataframe to a new Excel file\n",
    "output_file_path = 'surat_ctr_format_clean.xlsx'\n",
    "df_cleaned.to_excel(output_file_path, index=False)\n"
   ]
  }
 ],
 "metadata": {
  "kernelspec": {
   "display_name": ".venv",
   "language": "python",
   "name": "python3"
  },
  "language_info": {
   "codemirror_mode": {
    "name": "ipython",
    "version": 3
   },
   "file_extension": ".py",
   "mimetype": "text/x-python",
   "name": "python",
   "nbconvert_exporter": "python",
   "pygments_lexer": "ipython3",
   "version": "3.11.3"
  }
 },
 "nbformat": 4,
 "nbformat_minor": 2
}
