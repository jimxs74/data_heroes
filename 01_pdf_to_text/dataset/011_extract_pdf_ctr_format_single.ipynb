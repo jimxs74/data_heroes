{
 "cells": [
  {
   "cell_type": "code",
   "execution_count": 1,
   "metadata": {},
   "outputs": [],
   "source": [
    "import os\n",
    "from tika import parser\n",
    "import pandas as pd\n",
    "import re"
   ]
  },
  {
   "cell_type": "code",
   "execution_count": 17,
   "metadata": {},
   "outputs": [],
   "source": [
    "# Path to the folder containing the PDF files\n",
    "folder_path = 'ctr_format'\n",
    "\n",
    "# Function to extract text from each PDF file in the folder\n",
    "def extract_text_from_pdfs(folder_path):\n",
    "    data = []\n",
    "    for file in os.listdir(folder_path):\n",
    "        if file.endswith(\".pdf\"):\n",
    "            file_path = os.path.join(folder_path, file)\n",
    "            parsed_pdf = parser.from_file(file_path)\n",
    "            text = parsed_pdf['content'].strip() if parsed_pdf['content'] else \"\"\n",
    "\n",
    "            # Remove the specified block of text\n",
    "            text = re.sub(\n",
    "                r\"RJJ Consortium for JTB Project\\nc/o PT Rekayasa Industri\\nJl\\. Kalibata Timur I No\\. 36\\nKalibata, Jakarta 12740 – INDONESIA\\n\", \n",
    "                \"\", text\n",
    "            )\n",
    "\n",
    "            text = re.sub(\n",
    "                r\"Page 1 of 2\", \n",
    "                \"\", text\n",
    "            )\n",
    "\n",
    "            text = re.sub(\n",
    "                r\"Page 2 of 2\", \n",
    "                \"\", text\n",
    "            )\n",
    "\n",
    "            # Extract letter number\n",
    "            letter_number = re.search(r'No\\. :\\s*(.*?)\\s*\\n', text)\n",
    "            letter_number = letter_number.group(1) if letter_number else None\n",
    "\n",
    "            # Extract date\n",
    "            date = re.search(r'Tanggal : \\s*(.*?)\\s*\\n', text)\n",
    "            date = date.group(1) if date else None\n",
    "\n",
    "            # Extract title\n",
    "            title = re.search(r'Perihal  : \\s*(.*?)\\s*\\n', text)\n",
    "            title = title.group(1) if title else None\n",
    "\n",
    "            # Extract letter content\n",
    "            letter_content = re.search(r'Dengan Hormat,(.*?)Hormat kami,\\n\\nBudi Prianto\\nProject Manager', text, re.DOTALL)\n",
    "            letter_content = letter_content.group(1).strip() if letter_content else None\n",
    "\n",
    "            \n",
    "            data.append({'File Name': file, 'Letter Number': letter_number, \n",
    "                         'Date': date, 'Title': title, \n",
    "                         'letter_content ': letter_content, 'Raw Text': text,\n",
    "                         })\n",
    "            break\n",
    "\n",
    "    return data\n",
    "    \n",
    "# Extract text from all PDFs in the folder\n",
    "extracted_data = extract_text_from_pdfs(folder_path)\n",
    "\n",
    "# Convert to DataFrame\n",
    "df = pd.DataFrame(extracted_data)\n",
    "\n",
    "# Save the DataFrame to a CSV file (optional)\n",
    "df.to_excel('extracted_text_data.xlsx', index=False)\n"
   ]
  },
  {
   "cell_type": "code",
   "execution_count": 18,
   "metadata": {},
   "outputs": [
    {
     "data": {
      "text/html": [
       "<div>\n",
       "<style scoped>\n",
       "    .dataframe tbody tr th:only-of-type {\n",
       "        vertical-align: middle;\n",
       "    }\n",
       "\n",
       "    .dataframe tbody tr th {\n",
       "        vertical-align: top;\n",
       "    }\n",
       "\n",
       "    .dataframe thead th {\n",
       "        text-align: right;\n",
       "    }\n",
       "</style>\n",
       "<table border=\"1\" class=\"dataframe\">\n",
       "  <thead>\n",
       "    <tr style=\"text-align: right;\">\n",
       "      <th></th>\n",
       "      <th>File Name</th>\n",
       "      <th>Letter Number</th>\n",
       "      <th>Date</th>\n",
       "      <th>Title</th>\n",
       "      <th>letter_content</th>\n",
       "      <th>Raw Text</th>\n",
       "    </tr>\n",
       "  </thead>\n",
       "  <tbody>\n",
       "    <tr>\n",
       "      <th>0</th>\n",
       "      <td>JTB-L-RJ-PJ-00773 - Re-Rencana Vendor Training...</td>\n",
       "      <td>JTB-L-RJ-PJ-00773</td>\n",
       "      <td>28 Mei 2021</td>\n",
       "      <td>Re-Rencana Vendor Training untuk Personil Oper...</td>\n",
       "      <td>Mengacu pada surat PERUSAHAAN No. 161/CPQ100/2...</td>\n",
       "      <td>\\n\\n\\nNo. : JTB-L-RJ-PJ-00773\\nRef No. : 161/C...</td>\n",
       "    </tr>\n",
       "  </tbody>\n",
       "</table>\n",
       "</div>"
      ],
      "text/plain": [
       "                                           File Name      Letter Number  \\\n",
       "0  JTB-L-RJ-PJ-00773 - Re-Rencana Vendor Training...  JTB-L-RJ-PJ-00773   \n",
       "\n",
       "          Date                                              Title  \\\n",
       "0  28 Mei 2021  Re-Rencana Vendor Training untuk Personil Oper...   \n",
       "\n",
       "                                     letter_content   \\\n",
       "0  Mengacu pada surat PERUSAHAAN No. 161/CPQ100/2...   \n",
       "\n",
       "                                            Raw Text  \n",
       "0  \\n\\n\\nNo. : JTB-L-RJ-PJ-00773\\nRef No. : 161/C...  "
      ]
     },
     "execution_count": 18,
     "metadata": {},
     "output_type": "execute_result"
    }
   ],
   "source": [
    "df"
   ]
  }
 ],
 "metadata": {
  "kernelspec": {
   "display_name": ".venv",
   "language": "python",
   "name": "python3"
  },
  "language_info": {
   "codemirror_mode": {
    "name": "ipython",
    "version": 3
   },
   "file_extension": ".py",
   "mimetype": "text/x-python",
   "name": "python",
   "nbconvert_exporter": "python",
   "pygments_lexer": "ipython3",
   "version": "3.11.3"
  }
 },
 "nbformat": 4,
 "nbformat_minor": 2
}
