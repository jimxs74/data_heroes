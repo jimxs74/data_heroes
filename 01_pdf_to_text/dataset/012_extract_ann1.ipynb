{
 "cells": [
  {
   "cell_type": "code",
   "execution_count": null,
   "metadata": {},
   "outputs": [],
   "source": [
    "import os\n",
    "from tika import parser\n",
    "import pandas as pd\n",
    "import re"
   ]
  },
  {
   "cell_type": "code",
   "execution_count": null,
   "metadata": {},
   "outputs": [],
   "source": [
    "# Path to the folder containing the PDF files\n",
    "folder_path = 'ctr_format'\n",
    "\n",
    "# Function to extract text from each PDF file in the folder\n",
    "def extract_text_from_pdfs(folder_path):\n",
    "    data = []\n",
    "    for file in os.listdir(folder_path):\n",
    "        if file.endswith(\".pdf\"):\n",
    "            file_path = os.path.join(folder_path, file)\n",
    "            parsed_pdf = parser.from_file(file_path)\n",
    "            text = parsed_pdf['content'].strip() if parsed_pdf['content'] else \"\"\n",
    "\n",
    "            # Extract letter number\n",
    "            letter_number = re.search(r'No\\. :\\s*(.*?)\\s*\\n', text)\n",
    "            letter_number = letter_number.group(1) if letter_number else None\n",
    "\n",
    "            # Extract date\n",
    "            date = re.search(r'Tanggal : \\s*(.*?)\\s*\\n', text)\n",
    "            date = date.group(1) if date else None\n",
    "\n",
    "            # Extract title\n",
    "            title = re.search(r'Perihal  : \\s*(.*?)\\s*\\n', text)\n",
    "            title = title.group(1) if title else None\n",
    "            \n",
    "            data.append({'File Name': file, 'Letter Number': letter_number, \n",
    "                         'Date': date, 'Title': title, 'Raw Text': text,\n",
    "                         })\n",
    "    return data\n",
    "    \n",
    "# Extract text from all PDFs in the folder\n",
    "extracted_data = extract_text_from_pdfs(folder_path)\n",
    "\n",
    "# Convert to DataFrame\n",
    "df = pd.DataFrame(extracted_data)\n"
   ]
  },
  {
   "cell_type": "code",
   "execution_count": null,
   "metadata": {},
   "outputs": [],
   "source": [
    "# Save the DataFrame to a CSV file (optional)\n",
    "df.to_excel('surat_ctr_format.xlsx', index=False)"
   ]
  }
 ],
 "metadata": {
  "language_info": {
   "name": "python"
  }
 },
 "nbformat": 4,
 "nbformat_minor": 2
}
