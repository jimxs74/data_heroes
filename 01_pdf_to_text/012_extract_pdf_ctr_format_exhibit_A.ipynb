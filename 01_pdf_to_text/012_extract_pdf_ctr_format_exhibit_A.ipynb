{
 "cells": [
  {
   "cell_type": "code",
   "execution_count": 2,
   "metadata": {},
   "outputs": [],
   "source": [
    "import os\n",
    "from tika import parser\n",
    "import pandas as pd\n",
    "import re"
   ]
  },
  {
   "cell_type": "code",
   "execution_count": 2,
   "metadata": {},
   "outputs": [
    {
     "name": "stdout",
     "output_type": "stream",
     "text": [
      "Collecting pandas\n",
      "  Downloading pandas-2.2.2-cp39-cp39-macosx_11_0_arm64.whl.metadata (19 kB)\n",
      "Collecting numpy>=1.22.4 (from pandas)\n",
      "  Downloading numpy-1.26.4-cp39-cp39-macosx_11_0_arm64.whl.metadata (61 kB)\n",
      "\u001b[2K     \u001b[90m━━━━━━━━━━━━━━━━━━━━━━━━━━━━━━━━━━━━━━━━\u001b[0m \u001b[32m61.1/61.1 kB\u001b[0m \u001b[31m1.6 MB/s\u001b[0m eta \u001b[36m0:00:00\u001b[0m\n",
      "\u001b[?25hRequirement already satisfied: python-dateutil>=2.8.2 in /Users/jimlorisesse/Documents/13_GitHub/data_heroes/.venv/lib/python3.9/site-packages (from pandas) (2.9.0.post0)\n",
      "Collecting pytz>=2020.1 (from pandas)\n",
      "  Downloading pytz-2024.1-py2.py3-none-any.whl.metadata (22 kB)\n",
      "Collecting tzdata>=2022.7 (from pandas)\n",
      "  Downloading tzdata-2024.1-py2.py3-none-any.whl.metadata (1.4 kB)\n",
      "Requirement already satisfied: six>=1.5 in /Users/jimlorisesse/Documents/13_GitHub/data_heroes/.venv/lib/python3.9/site-packages (from python-dateutil>=2.8.2->pandas) (1.16.0)\n",
      "Downloading pandas-2.2.2-cp39-cp39-macosx_11_0_arm64.whl (11.3 MB)\n",
      "\u001b[2K   \u001b[90m━━━━━━━━━━━━━━━━━━━━━━━━━━━━━━━━━━━━━━━━\u001b[0m \u001b[32m11.3/11.3 MB\u001b[0m \u001b[31m1.6 MB/s\u001b[0m eta \u001b[36m0:00:00\u001b[0m00:01\u001b[0m00:01\u001b[0m\n",
      "\u001b[?25hDownloading numpy-1.26.4-cp39-cp39-macosx_11_0_arm64.whl (14.0 MB)\n",
      "\u001b[2K   \u001b[90m━━━━━━━━━━━━━━━━━━━━━━━━━━━━━━━━━━━━━━━━\u001b[0m \u001b[32m14.0/14.0 MB\u001b[0m \u001b[31m1.3 MB/s\u001b[0m eta \u001b[36m0:00:00\u001b[0m00:01\u001b[0m00:01\u001b[0m\n",
      "\u001b[?25hDownloading pytz-2024.1-py2.py3-none-any.whl (505 kB)\n",
      "\u001b[2K   \u001b[90m━━━━━━━━━━━━━━━━━━━━━━━━━━━━━━━━━━━━━━━━\u001b[0m \u001b[32m505.5/505.5 kB\u001b[0m \u001b[31m2.0 MB/s\u001b[0m eta \u001b[36m0:00:00\u001b[0m00:01\u001b[0m00:01\u001b[0m\n",
      "\u001b[?25hDownloading tzdata-2024.1-py2.py3-none-any.whl (345 kB)\n",
      "\u001b[2K   \u001b[90m━━━━━━━━━━━━━━━━━━━━━━━━━━━━━━━━━━━━━━━━\u001b[0m \u001b[32m345.4/345.4 kB\u001b[0m \u001b[31m1.9 MB/s\u001b[0m eta \u001b[36m0:00:00\u001b[0ma \u001b[36m0:00:01\u001b[0m\n",
      "\u001b[?25hInstalling collected packages: pytz, tzdata, numpy, pandas\n",
      "Successfully installed numpy-1.26.4 pandas-2.2.2 pytz-2024.1 tzdata-2024.1\n",
      "Note: you may need to restart the kernel to use updated packages.\n"
     ]
    }
   ],
   "source": [
    "%pip install pandas"
   ]
  },
  {
   "cell_type": "code",
   "execution_count": 4,
   "metadata": {},
   "outputs": [],
   "source": [
    "# Path to the folder containing the PDF files\n",
    "folder_path = 'format1'\n",
    "\n",
    "# Function to extract text from each PDF file in the folder\n",
    "def extract_text_from_pdfs(folder_path):\n",
    "    data = []\n",
    "    for file in os.listdir(folder_path):\n",
    "        if file.endswith(\".pdf\"):\n",
    "            file_path = os.path.join(folder_path, file)\n",
    "            parsed_pdf = parser.from_file(file_path)\n",
    "            text = parsed_pdf['content'].strip() if parsed_pdf['content'] else \"\"\n",
    "\n",
    "            # Remove the specified block of text\n",
    "            text = re.sub(\n",
    "                r\"RJJ Consortium for JTB Project\\nc/o PT Rekayasa Industri\\nJl\\. Kalibata Timur I No\\. 36\\nKalibata, Jakarta 12740 – INDONESIA\\n\", \n",
    "                \"\", text\n",
    "            )\n",
    "\n",
    "            text = re.sub(\n",
    "                r\"Page 1 of 2\", \n",
    "                \"\", text\n",
    "            )\n",
    "\n",
    "            text = re.sub(\n",
    "                r\"Page 2 of 2\", \n",
    "                \"\", text\n",
    "            )\n",
    "\n",
    "            # Extract letter number\n",
    "            letter_number = re.search(r'No\\. :\\s*(.*?)\\s*\\n', text)\n",
    "            letter_number = letter_number.group(1) if letter_number else None\n",
    "\n",
    "            # Extract date\n",
    "            date = re.search(r'Tanggal : \\s*(.*?)\\s*\\n', text)\n",
    "            date = date.group(1) if date else None\n",
    "\n",
    "            # Extract title\n",
    "            title = re.search(r'Perihal  : \\s*(.*?)\\s*\\n', text)\n",
    "            title = title.group(1) if title else None\n",
    "\n",
    "            # Extract letter content\n",
    "            letter_content = re.search(r'Dengan Hormat,(.*?)Hormat kami,\\n\\nBudi Prianto\\nProject Manager', text, re.DOTALL)\n",
    "            letter_content = letter_content.group(1).strip() if letter_content else None\n",
    "\n",
    "            \n",
    "            data.append({'File Name': file, 'Letter Number': letter_number, \n",
    "                         'Date': date, 'Title': title, \n",
    "                         'letter_content ': letter_content, 'Raw Text': text,\n",
    "                         })\n",
    "    return data\n",
    "    \n",
    "# Extract text from all PDFs in the folder\n",
    "extracted_data = extract_text_from_pdfs(folder_path)\n",
    "\n",
    "# Convert to DataFrame\n",
    "df = pd.DataFrame(extracted_data)\n",
    "\n",
    "# Save the DataFrame to a CSV file (optional)\n",
    "df.to_excel('surat_ctr_format.xlsx', index=False)\n"
   ]
  }
 ],
 "metadata": {
  "kernelspec": {
   "display_name": ".venv",
   "language": "python",
   "name": "python3"
  },
  "language_info": {
   "codemirror_mode": {
    "name": "ipython",
    "version": 3
   },
   "file_extension": ".py",
   "mimetype": "text/x-python",
   "name": "python",
   "nbconvert_exporter": "python",
   "pygments_lexer": "ipython3",
   "version": "3.9.6"
  }
 },
 "nbformat": 4,
 "nbformat_minor": 2
}
