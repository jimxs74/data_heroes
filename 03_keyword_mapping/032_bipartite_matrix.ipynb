{
 "cells": [
  {
   "cell_type": "code",
   "execution_count": 13,
   "metadata": {},
   "outputs": [],
   "source": [
    "import matplotlib.pyplot as plt\n",
    "import pandas as pd\n",
    "from scipy.sparse import csr_matrix"
   ]
  },
  {
   "cell_type": "code",
   "execution_count": 14,
   "metadata": {},
   "outputs": [],
   "source": [
    "dataset_path = (\"keyword_issue.xlsx\")\n",
    "data = pd.read_excel(dataset_path)"
   ]
  },
  {
   "cell_type": "code",
   "execution_count": 15,
   "metadata": {},
   "outputs": [
    {
     "name": "stderr",
     "output_type": "stream",
     "text": [
      "/Users/jim/Documents/GitHub/data_heroes/.venv/lib/python3.11/site-packages/scipy/sparse/_index.py:100: SparseEfficiencyWarning: Changing the sparsity structure of a csr_matrix is expensive. lil_matrix is more efficient.\n",
      "  self._set_intXint(row, col, x.flat[0])\n"
     ]
    },
    {
     "data": {
      "text/plain": [
       "{'Shape': (123, 123),\n",
       " 'Number of Unique Keywords': 123,\n",
       " 'Sample Unique Keywords': ['flare package',\n",
       "  'permohonan perubahan kedua',\n",
       "  'penanganan limbah cair',\n",
       "  'process',\n",
       "  'pembiayaan',\n",
       "  'undangan',\n",
       "  'change notice',\n",
       "  'change infrastructure facility',\n",
       "  'treatment',\n",
       "  'items']}"
      ]
     },
     "execution_count": 15,
     "metadata": {},
     "output_type": "execute_result"
    }
   ],
   "source": [
    "# Selecting only the key_1, key_2, key_3 columns\n",
    "selected_data = data[['key_1', 'key_2', 'key_3']]\n",
    "\n",
    "# Function to create a bipartite matrix with initial 0 values for each word\n",
    "def create_bipartite_matrix_zero_initialized(dataframe):\n",
    "    # Extract all unique keywords from the dataframe\n",
    "    unique_keywords = pd.unique(dataframe.values.ravel('K'))\n",
    "    unique_keywords = unique_keywords[pd.notna(unique_keywords)]  # Remove NaN values\n",
    "\n",
    "    # Create a dictionary to map each keyword to a column index\n",
    "    keyword_to_index = {keyword: i for i, keyword in enumerate(unique_keywords)}\n",
    "\n",
    "    # Initialize a matrix of zeros\n",
    "    #matrix = csr_matrix((len(dataframe), len(unique_keywords)), dtype=int)\n",
    "    matrix = csr_matrix((len(unique_keywords), len(unique_keywords)), dtype=int)\n",
    "\n",
    "\n",
    "    # Iterate through the dataframe and update the matrix\n",
    "    for row_idx, row in dataframe.iterrows():\n",
    "        for keyword in row:\n",
    "            if pd.notna(keyword):  # Check if the keyword is not NaN\n",
    "                col_idx = keyword_to_index[keyword]\n",
    "                matrix[row_idx, col_idx] = 1  # Set the corresponding matrix cell to 1\n",
    "\n",
    "    return matrix, list(unique_keywords), keyword_to_index\n",
    "\n",
    "# Create the bipartite matrix\n",
    "bipartite_matrix_zero_initialized, unique_keywords, keyword_to_index = create_bipartite_matrix_zero_initialized(selected_data)\n",
    "\n",
    "# Display some information about the matrix\n",
    "matrix_zero_info = {\n",
    "    'Shape': bipartite_matrix_zero_initialized.shape,\n",
    "    'Number of Unique Keywords': len(unique_keywords),\n",
    "    'Sample Unique Keywords': unique_keywords[:10]  # Display the first 10 keywords as a sample\n",
    "}\n",
    "matrix_zero_info\n"
   ]
  },
  {
   "cell_type": "code",
   "execution_count": 16,
   "metadata": {},
   "outputs": [],
   "source": [
    "# load data document\n",
    "dataset_path = (\"surat_ctr_format_clean.xlsx\")\n",
    "df = pd.read_excel(dataset_path)\n",
    "df_text = df[\"Title\"] +\". \"+ df[\"letter_content \"]"
   ]
  },
  {
   "cell_type": "code",
   "execution_count": 17,
   "metadata": {},
   "outputs": [
    {
     "name": "stderr",
     "output_type": "stream",
     "text": [
      "/Users/jim/Documents/GitHub/data_heroes/.venv/lib/python3.11/site-packages/scipy/sparse/_index.py:100: SparseEfficiencyWarning: Changing the sparsity structure of a csr_matrix is expensive. lil_matrix is more efficient.\n",
      "  self._set_intXint(row, col, x.flat[0])\n"
     ]
    },
    {
     "data": {
      "text/plain": [
       "{'Updated Shape': (123, 123), 'Number of Unique Keywords': 123}"
      ]
     },
     "execution_count": 17,
     "metadata": {},
     "output_type": "execute_result"
    }
   ],
   "source": [
    "#check hubungan bipartite matrix dalam df_text\n",
    "\n",
    "# Function to update the bipartite matrix based on keyword co-occurrence in documents\n",
    "def update_matrix_with_keyword_cooccurrence(df_text, bipartite_matrix, unique_keywords, keyword_to_index):\n",
    "    for doc in df_text:\n",
    "        # Split the document into words for keyword matching\n",
    "        words_in_doc = set(word for word in doc.split())\n",
    "\n",
    "        # Check for co-occurrence of each pair of keywords\n",
    "        for i, keyword1 in enumerate(unique_keywords):\n",
    "            for j, keyword2 in enumerate(unique_keywords):\n",
    "                if i != j and keyword1 in words_in_doc and keyword2 in words_in_doc:\n",
    "                    # Update the bipartite matrix\n",
    "                    bipartite_matrix[i, j] = 1\n",
    "                    bipartite_matrix[j, i] = 1  # Since the matrix is symmetric\n",
    "\n",
    "# Update the bipartite matrix based on the df_text\n",
    "update_matrix_with_keyword_cooccurrence(df_text, bipartite_matrix_zero_initialized, unique_keywords, keyword_to_index)\n",
    "\n",
    "# Display the updated matrix information\n",
    "updated_matrix_info = {\n",
    "    'Updated Shape': bipartite_matrix_zero_initialized.shape,\n",
    "    'Number of Unique Keywords': len(unique_keywords),\n",
    "}\n",
    "updated_matrix_info\n"
   ]
  },
  {
   "cell_type": "code",
   "execution_count": 18,
   "metadata": {},
   "outputs": [
    {
     "name": "stdout",
     "output_type": "stream",
     "text": [
      "The bipartite matrix has been saved to bipartite_matrix.xlsx\n"
     ]
    }
   ],
   "source": [
    "# save bipartite matrix to excel file\n",
    "\n",
    "# Convert the bipartite matrix to a dense format\n",
    "dense_matrix = bipartite_matrix_zero_initialized.toarray()\n",
    "\n",
    "# Create a DataFrame from the dense matrix\n",
    "df_matrix = pd.DataFrame(data=dense_matrix, index=unique_keywords, columns=unique_keywords)\n",
    "\n",
    "# Export to Excel\n",
    "excel_file_path = 'bipartite_matrix.xlsx'\n",
    "df_matrix.to_excel(excel_file_path)\n",
    "\n",
    "print(f\"The bipartite matrix has been saved to {excel_file_path}\")\n"
   ]
  }
 ],
 "metadata": {
  "kernelspec": {
   "display_name": ".venv",
   "language": "python",
   "name": "python3"
  },
  "language_info": {
   "codemirror_mode": {
    "name": "ipython",
    "version": 3
   },
   "file_extension": ".py",
   "mimetype": "text/x-python",
   "name": "python",
   "nbconvert_exporter": "python",
   "pygments_lexer": "ipython3",
   "version": "3.11.3"
  }
 },
 "nbformat": 4,
 "nbformat_minor": 2
}
