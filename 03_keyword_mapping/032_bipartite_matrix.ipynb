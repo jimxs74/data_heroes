{
 "cells": [
  {
   "cell_type": "code",
   "execution_count": 7,
   "metadata": {},
   "outputs": [],
   "source": [
    "import matplotlib.pyplot as plt\n",
    "import pandas as pd\n",
    "from scipy.sparse import csr_matrix"
   ]
  },
  {
   "cell_type": "code",
   "execution_count": 4,
   "metadata": {},
   "outputs": [],
   "source": [
    "dataset_path = (\"keyword_issue.xlsx\")\n",
    "data = pd.read_excel(dataset_path)"
   ]
  },
  {
   "cell_type": "code",
   "execution_count": 8,
   "metadata": {},
   "outputs": [
    {
     "name": "stderr",
     "output_type": "stream",
     "text": [
      "/home/jimx/Documents/GitHub/data_heroes/.venv/lib/python3.11/site-packages/scipy/sparse/_index.py:100: SparseEfficiencyWarning: Changing the sparsity structure of a csr_matrix is expensive. lil_matrix is more efficient.\n",
      "  self._set_intXint(row, col, x.flat[0])\n"
     ]
    },
    {
     "data": {
      "text/plain": [
       "{'Shape': (55, 123),\n",
       " 'Number of Unique Keywords': 123,\n",
       " 'Sample Unique Keywords': ['flare package',\n",
       "  'permohonan perubahan kedua',\n",
       "  'penanganan limbah cair',\n",
       "  'process',\n",
       "  'pembiayaan',\n",
       "  'undangan',\n",
       "  'change notice',\n",
       "  'change infrastructure facility',\n",
       "  'treatment',\n",
       "  'items']}"
      ]
     },
     "execution_count": 8,
     "metadata": {},
     "output_type": "execute_result"
    }
   ],
   "source": [
    "# Selecting only the key_1, key_2, key_3 columns\n",
    "selected_data = data[['key_1', 'key_2', 'key_3']]\n",
    "\n",
    "# Function to create a bipartite matrix with initial 0 values for each word\n",
    "def create_bipartite_matrix_zero_initialized(dataframe):\n",
    "    # Extract all unique keywords from the dataframe\n",
    "    unique_keywords = pd.unique(dataframe.values.ravel('K'))\n",
    "    unique_keywords = unique_keywords[pd.notna(unique_keywords)]  # Remove NaN values\n",
    "\n",
    "    # Create a dictionary to map each keyword to a column index\n",
    "    keyword_to_index = {keyword: i for i, keyword in enumerate(unique_keywords)}\n",
    "\n",
    "    # Initialize a matrix of zeros\n",
    "    matrix = csr_matrix((len(dataframe), len(unique_keywords)), dtype=int)\n",
    "\n",
    "    # Iterate through the dataframe and update the matrix\n",
    "    for row_idx, row in dataframe.iterrows():\n",
    "        for keyword in row:\n",
    "            if pd.notna(keyword):  # Check if the keyword is not NaN\n",
    "                col_idx = keyword_to_index[keyword]\n",
    "                matrix[row_idx, col_idx] = 1  # Set the corresponding matrix cell to 1\n",
    "\n",
    "    return matrix, list(unique_keywords)\n",
    "\n",
    "# Create the bipartite matrix\n",
    "bipartite_matrix_zero_initialized, unique_keywords = create_bipartite_matrix_zero_initialized(selected_data)\n",
    "\n",
    "# Display some information about the matrix\n",
    "matrix_zero_info = {\n",
    "    'Shape': bipartite_matrix_zero_initialized.shape,\n",
    "    'Number of Unique Keywords': len(unique_keywords),\n",
    "    'Sample Unique Keywords': unique_keywords[:10]  # Display the first 10 keywords as a sample\n",
    "}\n",
    "matrix_zero_info\n"
   ]
  },
  {
   "cell_type": "code",
   "execution_count": 14,
   "metadata": {},
   "outputs": [],
   "source": [
    "# load data document\n",
    "dataset_path = (\"surat_ctr_format_clean.xlsx\")\n",
    "df = pd.read_excel(dataset_path)\n",
    "df_text = df[\"Title\"] +\". \"+ df[\"letter_content \"]"
   ]
  },
  {
   "cell_type": "code",
   "execution_count": null,
   "metadata": {},
   "outputs": [],
   "source": [
    "#check hubungan bipartite matrix dalam df_text\n"
   ]
  }
 ],
 "metadata": {
  "kernelspec": {
   "display_name": ".venv",
   "language": "python",
   "name": "python3"
  },
  "language_info": {
   "codemirror_mode": {
    "name": "ipython",
    "version": 3
   },
   "file_extension": ".py",
   "mimetype": "text/x-python",
   "name": "python",
   "nbconvert_exporter": "python",
   "pygments_lexer": "ipython3",
   "version": "3.11.2"
  }
 },
 "nbformat": 4,
 "nbformat_minor": 2
}
