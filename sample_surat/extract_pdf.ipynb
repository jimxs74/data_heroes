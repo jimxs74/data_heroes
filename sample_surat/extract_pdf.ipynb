{
 "cells": [
  {
   "cell_type": "code",
   "execution_count": 14,
   "metadata": {},
   "outputs": [],
   "source": [
    "import os\n",
    "from tika import parser\n",
    "import pandas as pd\n",
    "import re"
   ]
  },
  {
   "cell_type": "code",
   "execution_count": 19,
   "metadata": {},
   "outputs": [],
   "source": [
    "# Path to the folder containing the PDF files\n",
    "folder_path = 'sample_data'\n",
    "\n",
    "# Function to extract text from each PDF file in the folder\n",
    "def extract_text_from_pdfs(folder_path):\n",
    "    data = []\n",
    "    for file in os.listdir(folder_path):\n",
    "        if file.endswith(\".pdf\"):\n",
    "            file_path = os.path.join(folder_path, file)\n",
    "            parsed_pdf = parser.from_file(file_path)\n",
    "            text = parsed_pdf['content'].strip() if parsed_pdf['content'] else \"\"\n",
    "\n",
    "            # Remove the specified block of text\n",
    "            text = re.sub(\n",
    "                r\"TYRJK Consortium for TYFB Project\\nc/o PT yetwelohn sdgf\\nJl\\. ytrg sjdk I No\\. 67\\naefi7wafj, Jakarta 346879 – INDONESIA\\n\", \n",
    "                \"\", text\n",
    "            )\n",
    "\n",
    "            # Extract letter number\n",
    "            letter_number = re.search(r'No\\. :\\s*(.*?)\\s*\\n', text)\n",
    "            letter_number = letter_number.group(1) if letter_number else None\n",
    "\n",
    "            # Extract date\n",
    "            date = re.search(r'Date :\\s*(.*?)\\s*\\n', text)\n",
    "            date = date.group(1) if date else None\n",
    "\n",
    "            # Extract title\n",
    "            title = re.search(r'Perihal :\\s*(.*?)\\s*\\n', text)\n",
    "            title = title.group(1) if title else None\n",
    "\n",
    "            # Extract letter content\n",
    "            letter_content = re.search(r'Dengan Hormat,(.*?)tyyv uaysfaj', text, re.DOTALL)\n",
    "            letter_content = letter_content.group(1).strip() if letter_content else None\n",
    "\n",
    "            \n",
    "            data.append({'File Name': file, 'Letter Number': letter_number, \n",
    "                         'Date': date, 'Title': title, \n",
    "                         'letter_content ': letter_content, 'Extracted Text': text,\n",
    "                         })\n",
    "    return data\n",
    "    \n",
    "# Extract text from all PDFs in the folder\n",
    "extracted_data = extract_text_from_pdfs(folder_path)\n",
    "\n",
    "# Convert to DataFrame\n",
    "df = pd.DataFrame(extracted_data)\n",
    "\n",
    "# Save the DataFrame to a CSV file (optional)\n",
    "df.to_excel('extracted_text_data.xlsx', index=False)\n"
   ]
  }
 ],
 "metadata": {
  "kernelspec": {
   "display_name": ".venv",
   "language": "python",
   "name": "python3"
  },
  "language_info": {
   "codemirror_mode": {
    "name": "ipython",
    "version": 3
   },
   "file_extension": ".py",
   "mimetype": "text/x-python",
   "name": "python",
   "nbconvert_exporter": "python",
   "pygments_lexer": "ipython3",
   "version": "3.11.3"
  }
 },
 "nbformat": 4,
 "nbformat_minor": 2
}
